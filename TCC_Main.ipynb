{
  "cells": [
    {
      "cell_type": "markdown",
      "metadata": {
        "id": "gVfnIsm86JG-"
      },
      "source": [
        "## Imports"
      ]
    },
    {
      "cell_type": "code",
      "execution_count": 14,
      "metadata": {
        "id": "mQeMO9uT4mls"
      },
      "outputs": [],
      "source": [
        "import pandas as pd\n",
        "import subprocess\n",
        "import ast"
      ]
    },
    {
      "cell_type": "markdown",
      "metadata": {
        "id": "J1vRvxmmXP9F"
      },
      "source": [
        "## Main"
      ]
    },
    {
      "cell_type": "code",
      "execution_count": 15,
      "metadata": {
        "id": "-WKzVEBuHEv4"
      },
      "outputs": [
        {
          "name": "stdout",
          "output_type": "stream",
          "text": [
            "df_iris done\n",
            "df_heart done\n",
            "df_breast done\n",
            "df_creditcard done\n"
          ]
        }
      ],
      "source": [
        "results = pd.DataFrame(columns = ['dataset', 'technique', 'model', 'f1_score', 'processing_time', 'memory_usage'])\n",
        "\n",
        "for dataset in ['df_iris', 'df_heart', 'df_breast', 'df_creditcard']:\n",
        "    for technique in ['none', 'PCA', 'IncPCA', 'NMF', 'ICA', 'LDA']:\n",
        "        for model in ['SVM', 'MLP', 'Tree', 'KNN', 'LogReg', 'GBC']:    \n",
        "\n",
        "            cmd = ['python', 'TCC_analysis.py', dataset, technique, model]\n",
        "            completed_process = subprocess.run(cmd, stdout=subprocess.PIPE, text=True, check=True)\n",
        "\n",
        "            subprocess_output = completed_process.stdout\n",
        "            subprocess_output = ast.literal_eval(subprocess_output)\n",
        "\n",
        "            results.loc[len(results)] = subprocess_output\n",
        "    print(f'{dataset} done')"
      ]
    },
    {
      "cell_type": "code",
      "execution_count": 18,
      "metadata": {
        "colab": {
          "base_uri": "https://localhost:8080/",
          "height": 682
        },
        "id": "PE8iXKkR-Yzg",
        "outputId": "22177c4a-d0b3-497c-c234-beefd6ae108c"
      },
      "outputs": [
        {
          "data": {
            "text/html": [
              "<div>\n",
              "<style scoped>\n",
              "    .dataframe tbody tr th:only-of-type {\n",
              "        vertical-align: middle;\n",
              "    }\n",
              "\n",
              "    .dataframe tbody tr th {\n",
              "        vertical-align: top;\n",
              "    }\n",
              "\n",
              "    .dataframe thead th {\n",
              "        text-align: right;\n",
              "    }\n",
              "</style>\n",
              "<table border=\"1\" class=\"dataframe\">\n",
              "  <thead>\n",
              "    <tr style=\"text-align: right;\">\n",
              "      <th></th>\n",
              "      <th>dataset</th>\n",
              "      <th>technique</th>\n",
              "      <th>model</th>\n",
              "      <th>f1_score</th>\n",
              "      <th>processing_time</th>\n",
              "      <th>memory_usage</th>\n",
              "    </tr>\n",
              "  </thead>\n",
              "  <tbody>\n",
              "    <tr>\n",
              "      <th>0</th>\n",
              "      <td>df_iris</td>\n",
              "      <td>none</td>\n",
              "      <td>SVM</td>\n",
              "      <td>1.000000</td>\n",
              "      <td>0.049890</td>\n",
              "      <td>71.965820</td>\n",
              "    </tr>\n",
              "    <tr>\n",
              "      <th>1</th>\n",
              "      <td>df_iris</td>\n",
              "      <td>none</td>\n",
              "      <td>MLP</td>\n",
              "      <td>0.993333</td>\n",
              "      <td>0.886104</td>\n",
              "      <td>205.577148</td>\n",
              "    </tr>\n",
              "    <tr>\n",
              "      <th>2</th>\n",
              "      <td>df_iris</td>\n",
              "      <td>none</td>\n",
              "      <td>Tree</td>\n",
              "      <td>0.993347</td>\n",
              "      <td>0.066487</td>\n",
              "      <td>74.348633</td>\n",
              "    </tr>\n",
              "    <tr>\n",
              "      <th>3</th>\n",
              "      <td>df_iris</td>\n",
              "      <td>none</td>\n",
              "      <td>KNN</td>\n",
              "      <td>0.993333</td>\n",
              "      <td>0.070069</td>\n",
              "      <td>116.619141</td>\n",
              "    </tr>\n",
              "    <tr>\n",
              "      <th>4</th>\n",
              "      <td>df_iris</td>\n",
              "      <td>none</td>\n",
              "      <td>LogReg</td>\n",
              "      <td>0.993333</td>\n",
              "      <td>0.084119</td>\n",
              "      <td>173.014648</td>\n",
              "    </tr>\n",
              "    <tr>\n",
              "      <th>...</th>\n",
              "      <td>...</td>\n",
              "      <td>...</td>\n",
              "      <td>...</td>\n",
              "      <td>...</td>\n",
              "      <td>...</td>\n",
              "      <td>...</td>\n",
              "    </tr>\n",
              "    <tr>\n",
              "      <th>139</th>\n",
              "      <td>df_creditcard</td>\n",
              "      <td>LDA</td>\n",
              "      <td>MLP</td>\n",
              "      <td>0.998831</td>\n",
              "      <td>20.144661</td>\n",
              "      <td>13418.303711</td>\n",
              "    </tr>\n",
              "    <tr>\n",
              "      <th>140</th>\n",
              "      <td>df_creditcard</td>\n",
              "      <td>LDA</td>\n",
              "      <td>Tree</td>\n",
              "      <td>0.999393</td>\n",
              "      <td>0.621028</td>\n",
              "      <td>13417.103516</td>\n",
              "    </tr>\n",
              "    <tr>\n",
              "      <th>141</th>\n",
              "      <td>df_creditcard</td>\n",
              "      <td>LDA</td>\n",
              "      <td>KNN</td>\n",
              "      <td>0.999350</td>\n",
              "      <td>228.194367</td>\n",
              "      <td>13459.287109</td>\n",
              "    </tr>\n",
              "    <tr>\n",
              "      <th>142</th>\n",
              "      <td>df_creditcard</td>\n",
              "      <td>LDA</td>\n",
              "      <td>LogReg</td>\n",
              "      <td>0.997844</td>\n",
              "      <td>0.614238</td>\n",
              "      <td>17852.976562</td>\n",
              "    </tr>\n",
              "    <tr>\n",
              "      <th>143</th>\n",
              "      <td>df_creditcard</td>\n",
              "      <td>LDA</td>\n",
              "      <td>GBC</td>\n",
              "      <td>0.997923</td>\n",
              "      <td>19.199195</td>\n",
              "      <td>13420.279297</td>\n",
              "    </tr>\n",
              "  </tbody>\n",
              "</table>\n",
              "<p>144 rows × 6 columns</p>\n",
              "</div>"
            ],
            "text/plain": [
              "           dataset technique   model  f1_score  processing_time  memory_usage\n",
              "0          df_iris      none     SVM  1.000000         0.049890     71.965820\n",
              "1          df_iris      none     MLP  0.993333         0.886104    205.577148\n",
              "2          df_iris      none    Tree  0.993347         0.066487     74.348633\n",
              "3          df_iris      none     KNN  0.993333         0.070069    116.619141\n",
              "4          df_iris      none  LogReg  0.993333         0.084119    173.014648\n",
              "..             ...       ...     ...       ...              ...           ...\n",
              "139  df_creditcard       LDA     MLP  0.998831        20.144661  13418.303711\n",
              "140  df_creditcard       LDA    Tree  0.999393         0.621028  13417.103516\n",
              "141  df_creditcard       LDA     KNN  0.999350       228.194367  13459.287109\n",
              "142  df_creditcard       LDA  LogReg  0.997844         0.614238  17852.976562\n",
              "143  df_creditcard       LDA     GBC  0.997923        19.199195  13420.279297\n",
              "\n",
              "[144 rows x 6 columns]"
            ]
          },
          "execution_count": 18,
          "metadata": {},
          "output_type": "execute_result"
        }
      ],
      "source": [
        "results"
      ]
    },
    {
      "cell_type": "markdown",
      "metadata": {},
      "source": [
        "## Save result into a csv file"
      ]
    },
    {
      "cell_type": "code",
      "execution_count": 17,
      "metadata": {},
      "outputs": [],
      "source": [
        "results.to_csv('results.csv', index=False)"
      ]
    }
  ],
  "metadata": {
    "colab": {
      "collapsed_sections": [
        "ZsXoep8IYAvC"
      ],
      "provenance": []
    },
    "kernelspec": {
      "display_name": "Python 3",
      "name": "python3"
    },
    "language_info": {
      "codemirror_mode": {
        "name": "ipython",
        "version": 3
      },
      "file_extension": ".py",
      "mimetype": "text/x-python",
      "name": "python",
      "nbconvert_exporter": "python",
      "pygments_lexer": "ipython3",
      "version": "3.12.0"
    }
  },
  "nbformat": 4,
  "nbformat_minor": 0
}
