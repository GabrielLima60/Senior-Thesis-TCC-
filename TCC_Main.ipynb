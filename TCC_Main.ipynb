{
  "cells": [
    {
      "cell_type": "markdown",
      "metadata": {
        "id": "gVfnIsm86JG-"
      },
      "source": [
        "## Imports"
      ]
    },
    {
      "cell_type": "code",
      "execution_count": 1,
      "metadata": {
        "id": "mQeMO9uT4mls"
      },
      "outputs": [],
      "source": [
        "import pandas as pd\n",
        "import subprocess\n",
        "import ast"
      ]
    },
    {
      "cell_type": "markdown",
      "metadata": {
        "id": "J1vRvxmmXP9F"
      },
      "source": [
        "## Main"
      ]
    },
    {
      "cell_type": "code",
      "execution_count": 2,
      "metadata": {
        "id": "-WKzVEBuHEv4"
      },
      "outputs": [
        {
          "name": "stdout",
          "output_type": "stream",
          "text": [
            "df_iris done\n",
            "df_heart done\n",
            "df_breast done\n",
            "df_creditcard done\n"
          ]
        }
      ],
      "source": [
        "results = pd.DataFrame(columns = ['dataset', 'technique', 'model', 'f1_score', 'processing_time', 'memory_usage'])\n",
        "\n",
        "for dataset in ['df_iris', 'df_heart', 'df_breast', 'df_creditcard']:\n",
        "    for technique in ['none', 'PCA', 'IncPCA', 'ICA', 'LDA', 'SMOTE']:\n",
        "        for model in ['Naive Bayes', 'SVM', 'MLP', 'Tree', 'KNN', 'LogReg', 'GBC']:    \n",
        "\n",
        "            cmd = ['python', 'TCC_analysis.py', dataset, technique, model]\n",
        "            completed_process = subprocess.run(cmd, stdout=subprocess.PIPE, text=True, check=True)\n",
        "\n",
        "            subprocess_output = completed_process.stdout\n",
        "            subprocess_output = ast.literal_eval(subprocess_output)\n",
        "\n",
        "            results.loc[len(results)] = subprocess_output\n",
        "    print(f'{dataset} done')"
      ]
    },
    {
      "cell_type": "code",
      "execution_count": 3,
      "metadata": {
        "colab": {
          "base_uri": "https://localhost:8080/",
          "height": 682
        },
        "id": "PE8iXKkR-Yzg",
        "outputId": "22177c4a-d0b3-497c-c234-beefd6ae108c"
      },
      "outputs": [
        {
          "data": {
            "text/html": [
              "<div>\n",
              "<style scoped>\n",
              "    .dataframe tbody tr th:only-of-type {\n",
              "        vertical-align: middle;\n",
              "    }\n",
              "\n",
              "    .dataframe tbody tr th {\n",
              "        vertical-align: top;\n",
              "    }\n",
              "\n",
              "    .dataframe thead th {\n",
              "        text-align: right;\n",
              "    }\n",
              "</style>\n",
              "<table border=\"1\" class=\"dataframe\">\n",
              "  <thead>\n",
              "    <tr style=\"text-align: right;\">\n",
              "      <th></th>\n",
              "      <th>dataset</th>\n",
              "      <th>technique</th>\n",
              "      <th>model</th>\n",
              "      <th>f1_score</th>\n",
              "      <th>processing_time</th>\n",
              "      <th>memory_usage</th>\n",
              "    </tr>\n",
              "  </thead>\n",
              "  <tbody>\n",
              "    <tr>\n",
              "      <th>0</th>\n",
              "      <td>df_iris</td>\n",
              "      <td>none</td>\n",
              "      <td>Naive Bayes</td>\n",
              "      <td>0.993333</td>\n",
              "      <td>0.054584</td>\n",
              "      <td>68.119141</td>\n",
              "    </tr>\n",
              "    <tr>\n",
              "      <th>1</th>\n",
              "      <td>df_iris</td>\n",
              "      <td>none</td>\n",
              "      <td>SVM</td>\n",
              "      <td>1.000000</td>\n",
              "      <td>0.058146</td>\n",
              "      <td>67.345703</td>\n",
              "    </tr>\n",
              "    <tr>\n",
              "      <th>2</th>\n",
              "      <td>df_iris</td>\n",
              "      <td>none</td>\n",
              "      <td>MLP</td>\n",
              "      <td>0.993333</td>\n",
              "      <td>0.886823</td>\n",
              "      <td>201.218750</td>\n",
              "    </tr>\n",
              "    <tr>\n",
              "      <th>3</th>\n",
              "      <td>df_iris</td>\n",
              "      <td>none</td>\n",
              "      <td>Tree</td>\n",
              "      <td>0.993347</td>\n",
              "      <td>0.052000</td>\n",
              "      <td>70.250977</td>\n",
              "    </tr>\n",
              "    <tr>\n",
              "      <th>4</th>\n",
              "      <td>df_iris</td>\n",
              "      <td>none</td>\n",
              "      <td>KNN</td>\n",
              "      <td>0.993333</td>\n",
              "      <td>0.077074</td>\n",
              "      <td>81.955078</td>\n",
              "    </tr>\n",
              "    <tr>\n",
              "      <th>...</th>\n",
              "      <td>...</td>\n",
              "      <td>...</td>\n",
              "      <td>...</td>\n",
              "      <td>...</td>\n",
              "      <td>...</td>\n",
              "      <td>...</td>\n",
              "    </tr>\n",
              "    <tr>\n",
              "      <th>163</th>\n",
              "      <td>df_creditcard</td>\n",
              "      <td>SMOTE</td>\n",
              "      <td>MLP</td>\n",
              "      <td>0.999262</td>\n",
              "      <td>49.768179</td>\n",
              "      <td>34205.346680</td>\n",
              "    </tr>\n",
              "    <tr>\n",
              "      <th>164</th>\n",
              "      <td>df_creditcard</td>\n",
              "      <td>SMOTE</td>\n",
              "      <td>Tree</td>\n",
              "      <td>0.998566</td>\n",
              "      <td>28.040533</td>\n",
              "      <td>34205.623047</td>\n",
              "    </tr>\n",
              "    <tr>\n",
              "      <th>165</th>\n",
              "      <td>df_creditcard</td>\n",
              "      <td>SMOTE</td>\n",
              "      <td>KNN</td>\n",
              "      <td>0.998621</td>\n",
              "      <td>11.681390</td>\n",
              "      <td>34205.646484</td>\n",
              "    </tr>\n",
              "    <tr>\n",
              "      <th>166</th>\n",
              "      <td>df_creditcard</td>\n",
              "      <td>SMOTE</td>\n",
              "      <td>LogReg</td>\n",
              "      <td>0.996215</td>\n",
              "      <td>3.181477</td>\n",
              "      <td>54326.099609</td>\n",
              "    </tr>\n",
              "    <tr>\n",
              "      <th>167</th>\n",
              "      <td>df_creditcard</td>\n",
              "      <td>SMOTE</td>\n",
              "      <td>GBC</td>\n",
              "      <td>0.998891</td>\n",
              "      <td>971.346937</td>\n",
              "      <td>34208.330078</td>\n",
              "    </tr>\n",
              "  </tbody>\n",
              "</table>\n",
              "<p>168 rows × 6 columns</p>\n",
              "</div>"
            ],
            "text/plain": [
              "           dataset technique        model  f1_score  processing_time  \\\n",
              "0          df_iris      none  Naive Bayes  0.993333         0.054584   \n",
              "1          df_iris      none          SVM  1.000000         0.058146   \n",
              "2          df_iris      none          MLP  0.993333         0.886823   \n",
              "3          df_iris      none         Tree  0.993347         0.052000   \n",
              "4          df_iris      none          KNN  0.993333         0.077074   \n",
              "..             ...       ...          ...       ...              ...   \n",
              "163  df_creditcard     SMOTE          MLP  0.999262        49.768179   \n",
              "164  df_creditcard     SMOTE         Tree  0.998566        28.040533   \n",
              "165  df_creditcard     SMOTE          KNN  0.998621        11.681390   \n",
              "166  df_creditcard     SMOTE       LogReg  0.996215         3.181477   \n",
              "167  df_creditcard     SMOTE          GBC  0.998891       971.346937   \n",
              "\n",
              "     memory_usage  \n",
              "0       68.119141  \n",
              "1       67.345703  \n",
              "2      201.218750  \n",
              "3       70.250977  \n",
              "4       81.955078  \n",
              "..            ...  \n",
              "163  34205.346680  \n",
              "164  34205.623047  \n",
              "165  34205.646484  \n",
              "166  54326.099609  \n",
              "167  34208.330078  \n",
              "\n",
              "[168 rows x 6 columns]"
            ]
          },
          "execution_count": 3,
          "metadata": {},
          "output_type": "execute_result"
        }
      ],
      "source": [
        "results"
      ]
    },
    {
      "cell_type": "markdown",
      "metadata": {},
      "source": [
        "## Save result into a csv file"
      ]
    },
    {
      "cell_type": "code",
      "execution_count": 4,
      "metadata": {},
      "outputs": [],
      "source": [
        "results.to_csv('results.csv', index=False)"
      ]
    }
  ],
  "metadata": {
    "colab": {
      "collapsed_sections": [
        "ZsXoep8IYAvC"
      ],
      "provenance": []
    },
    "kernelspec": {
      "display_name": "Python 3",
      "name": "python3"
    },
    "language_info": {
      "codemirror_mode": {
        "name": "ipython",
        "version": 3
      },
      "file_extension": ".py",
      "mimetype": "text/x-python",
      "name": "python",
      "nbconvert_exporter": "python",
      "pygments_lexer": "ipython3",
      "version": "3.12.1"
    }
  },
  "nbformat": 4,
  "nbformat_minor": 0
}
